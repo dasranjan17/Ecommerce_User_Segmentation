{
 "cells": [
  {
   "cell_type": "code",
   "execution_count": null,
   "id": "a767a1ee",
   "metadata": {
    "vscode": {
     "languageId": "code"
    }
   },
   "outputs": [],
   "source": [
    "import pandas as pd\n",
    "import numpy as np\n",
    "import pickle\n",
    "import matplotlib.pyplot as plt\n",
    "\n",
    "# Load preprocessed data from previous notebook using pickle\n",
    "with open('step3.pkl', 'rb') as f:\n",
    "    data_bundle = pickle.load(f)\n",
    "\n",
    "X = data_bundle['X']\n",
    "preprocessor = data_bundle['preprocessor']\n",
    "customer_features = data_bundle['customer_features']\n",
    "df = data_bundle['df']\n",
    "\n",
    "print(\"Preprocessed data loaded from step3.pkl:\", X.shape)\n",
    "print(\"Data with features loaded:\", df.shape)"
   ]
  },
  {
   "cell_type": "markdown",
   "id": "2f88d2e4",
   "metadata": {},
   "source": [
    "# Clustering (ML Part)\n",
    "Apply K-Means clustering, try different k values (Elbow Method), and validate clusters with Silhouette Score."
   ]
  },
  {
   "cell_type": "code",
   "execution_count": null,
   "id": "be102dd4",
   "metadata": {},
   "outputs": [],
   "source": [
    "from sklearn.cluster import KMeans\n",
    "from sklearn.metrics import silhouette_score"
   ]
  },
  {
   "cell_type": "code",
   "execution_count": null,
   "id": "620ffb05",
   "metadata": {},
   "outputs": [],
   "source": [
    "# Elbow Method\n",
    "inertia = []\n",
    "K = range(2, 10)\n",
    "for k in K:\n",
    "    kmeans = KMeans(n_clusters=k, random_state=42)\n",
    "    kmeans.fit(X)\n",
    "    inertia.append(kmeans.inertia_)\n",
    "plt.plot(K, inertia, 'bx-')\n",
    "plt.xlabel('k')\n",
    "plt.ylabel('Inertia')\n",
    "plt.title('Elbow Method For Optimal k')\n",
    "plt.show()"
   ]
  },
  {
   "cell_type": "code",
   "execution_count": null,
   "id": "f268a75c",
   "metadata": {},
   "outputs": [],
   "source": [
    "# Fit KMeans and assign clusters\n",
    "kmeans = KMeans(n_clusters=4, random_state=42)\n",
    "clusters = kmeans.fit_predict(X)\n",
    "df['cluster'] = clusters"
   ]
  },
  {
   "cell_type": "code",
   "execution_count": null,
   "id": "b07ec055",
   "metadata": {},
   "outputs": [],
   "source": [
    "# Silhouette Score\n",
    "score = silhouette_score(X, clusters)\n",
    "print('Silhouette Score:', score)"
   ]
  },
  {
   "cell_type": "code",
   "execution_count": null,
   "id": "50ed4797",
   "metadata": {
    "vscode": {
     "languageId": "code"
    }
   },
   "outputs": [],
   "source": [
    "# Save clustered data for next notebook using pickle\n",
    "final_data_bundle = {\n",
    "    'df': df,\n",
    "    'customer_features': customer_features,\n",
    "    'X': X,\n",
    "    'kmeans_model': kmeans\n",
    "}\n",
    "\n",
    "with open('step4.pkl', 'wb') as f:\n",
    "    pickle.dump(final_data_bundle, f)\n",
    "\n",
    "print(\"Data with clusters saved as step4.pkl\")"
   ]
  }
 ],
 "metadata": {
  "language_info": {
   "name": "python"
  }
 },
 "nbformat": 4,
 "nbformat_minor": 5
}
