{
 "cells": [
  {
   "cell_type": "code",
   "execution_count": null,
   "id": "35697ff3",
   "metadata": {
    "vscode": {
     "languageId": "code"
    }
   },
   "outputs": [],
   "source": [
    "import pandas as pd\n",
    "import numpy as np\n",
    "import pickle\n",
    "\n",
    "# Load clustered data from previous notebook using pickle\n",
    "with open('step4.pkl', 'rb') as f:\n",
    "    final_data_bundle = pickle.load(f)\n",
    "\n",
    "df = final_data_bundle['df']\n",
    "customer_features = final_data_bundle['customer_features']\n",
    "X = final_data_bundle['X']\n",
    "kmeans_model = final_data_bundle['kmeans_model']\n",
    "\n",
    "print(\"Clustered data loaded from step4.pkl:\", df.shape)\n",
    "print(\"Customer features loaded:\", customer_features.shape)"
   ]
  },
  {
   "cell_type": "markdown",
   "id": "ccba097d",
   "metadata": {},
   "source": [
    "# Cluster Analysis & Insights\n",
    "Profile clusters (e.g., avg spend, frequency), visualize clusters with plots, and derive actionable insights for marketing and personalization."
   ]
  },
  {
   "cell_type": "code",
   "execution_count": null,
   "id": "5a09846e",
   "metadata": {},
   "outputs": [],
   "source": [
    "import matplotlib.pyplot as plt\n",
    "import seaborn as sns"
   ]
  },
  {
   "cell_type": "markdown",
   "id": "63c1790a",
   "metadata": {},
   "source": [
    "## Profile Clusters"
   ]
  },
  {
   "cell_type": "code",
   "execution_count": null,
   "id": "ed0b1ae3",
   "metadata": {},
   "outputs": [],
   "source": [
    "cluster_summary = df.groupby('cluster').agg({'price': ['mean', 'count'], 'user_id': 'nunique'})\n",
    "print(cluster_summary)"
   ]
  },
  {
   "cell_type": "markdown",
   "id": "6f18da63",
   "metadata": {},
   "source": [
    "## Visualize Clusters"
   ]
  },
  {
   "cell_type": "code",
   "execution_count": null,
   "id": "3578d674",
   "metadata": {},
   "outputs": [],
   "source": [
    "sns.countplot(x='cluster', data=df)\n",
    "plt.title('Cluster Counts')\n",
    "plt.show()"
   ]
  },
  {
   "cell_type": "markdown",
   "id": "50bda779",
   "metadata": {},
   "source": [
    "## Actionable Insights\n",
    "Summarize key findings and recommendations for marketing and personalization based on cluster profiles."
   ]
  }
 ],
 "metadata": {
  "language_info": {
   "name": "python"
  }
 },
 "nbformat": 4,
 "nbformat_minor": 5
}
