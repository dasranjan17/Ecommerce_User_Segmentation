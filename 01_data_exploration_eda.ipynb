{
 "cells": [
  {
   "cell_type": "markdown",
   "id": "0a8b1c37",
   "metadata": {},
   "source": [
    "# Data Exploration (EDA)\n",
    "Load the raw dataset, inspect its structure, visualize missing values, distributions, and category counts, and document initial findings."
   ]
  },
  {
   "cell_type": "code",
   "execution_count": null,
   "id": "ce850cf3",
   "metadata": {},
   "outputs": [],
   "source": [
    "import pandas as pd\n",
    "import numpy as np\n",
    "import seaborn as sns\n",
    "import matplotlib.pyplot as plt"
   ]
  },
  {
   "cell_type": "code",
   "execution_count": null,
   "id": "9dc39462",
   "metadata": {},
   "outputs": [],
   "source": [
    "df = pd.read_csv('2019 Oct.csv')\n",
    "df = df.head(10000)\n",
    "df.info()\n",
    "df.head()"
   ]
  },
  {
   "cell_type": "markdown",
   "id": "dc968c1c",
   "metadata": {},
   "source": [
    "## Visualize Missing Values"
   ]
  },
  {
   "cell_type": "code",
   "execution_count": null,
   "id": "37a7f0e9",
   "metadata": {},
   "outputs": [],
   "source": [
    "sns.heatmap(df.isna(), cbar=False)\n",
    "plt.title('Missing Values Heatmap')\n",
    "plt.show()"
   ]
  },
  {
   "cell_type": "markdown",
   "id": "87c2a2f4",
   "metadata": {},
   "source": [
    "## Visualize Distributions and Category Counts"
   ]
  },
  {
   "cell_type": "code",
   "execution_count": null,
   "id": "819d7e79",
   "metadata": {},
   "outputs": [],
   "source": [
    "df.describe(include='all')\n",
    "df['event_type'].value_counts().plot(kind='bar', title='Event Type Counts')\n",
    "plt.show()\n",
    "df['category_code'].value_counts().plot(kind='bar', title='Category Code Counts')\n",
    "plt.show()"
   ]
  },
  {
   "cell_type": "markdown",
   "id": "9edfaec2",
   "metadata": {},
   "source": [
    "## Initial Findings\n",
    "Document any observations about missing data, distributions, or unusual values."
   ]
  },
  {
   "cell_type": "code",
   "execution_count": null,
   "id": "338421fe",
   "metadata": {
    "vscode": {
     "languageId": "code"
    }
   },
   "outputs": [],
   "source": [
    "# Save the raw data for next notebook using pickle\n",
    "import pickle\n",
    "\n",
    "with open('step1.pkl', 'wb') as f:\n",
    "    pickle.dump(df, f)\n",
    "    \n",
    "print(\"Data saved as step1.pkl for next notebook\")"
   ]
  }
 ],
 "metadata": {
  "language_info": {
   "name": "python"
  }
 },
 "nbformat": 4,
 "nbformat_minor": 5
}
