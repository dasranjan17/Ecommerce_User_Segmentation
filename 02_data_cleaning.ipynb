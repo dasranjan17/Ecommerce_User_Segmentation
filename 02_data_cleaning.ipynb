{
 "cells": [
  {
   "cell_type": "code",
   "execution_count": 3,
   "id": "2b7f73a7",
   "metadata": {},
   "outputs": [
    {
     "name": "stdout",
     "output_type": "stream",
     "text": [
      "Data loaded from step1.pkl: (10000, 9)\n"
     ]
    }
   ],
   "source": [
    "import pandas as pd\n",
    "import numpy as np\n",
    "import pickle\n",
    "\n",
    "# Load data from previous notebook using pickle\n",
    "with open('step1.pkl', 'rb') as f:\n",
    "    df = pickle.load(f)\n",
    "    \n",
    "print(\"Data loaded from step1.pkl:\", df.shape)"
   ]
  },
  {
   "cell_type": "markdown",
   "id": "46c482e7",
   "metadata": {},
   "source": [
    "# Data Cleaning\n",
    "Handle missing values, remove duplicates, handle outliers (IQR, z-score), and validate/correct data types."
   ]
  },
  {
   "cell_type": "code",
   "execution_count": 4,
   "id": "6ebe343d",
   "metadata": {},
   "outputs": [],
   "source": [
    "# Handle missing values\n",
    "threshold = int(df.shape[1] * 0.5)\n",
    "df = df.dropna(thresh=threshold)\n",
    "for col in df.select_dtypes(include=['float64', 'int64']).columns:\n",
    "    df[col] = df[col].fillna(df[col].mean())"
   ]
  },
  {
   "cell_type": "code",
   "execution_count": 5,
   "id": "882e4e1d",
   "metadata": {},
   "outputs": [],
   "source": [
    "# Remove duplicates\n",
    "df = df.drop_duplicates()"
   ]
  },
  {
   "cell_type": "code",
   "execution_count": 6,
   "id": "1b4f861f",
   "metadata": {},
   "outputs": [],
   "source": [
    "# Handle outliers (IQR method)\n",
    "import numpy as np\n",
    "numeric_cols = df.select_dtypes(include=[np.number]).columns\n",
    "outlier_index = set()\n",
    "for col in numeric_cols:\n",
    "    Q1 = df[col].quantile(0.25)\n",
    "    Q3 = df[col].quantile(0.75)\n",
    "    IQR = Q3 - Q1\n",
    "    lower_bound = Q1 - 1.5 * IQR\n",
    "    upper_bound = Q3 + 1.5 * IQR\n",
    "    outlier_index.update(df[(df[col] < lower_bound) | (df[col] > upper_bound)].index)\n",
    "df = df.drop(outlier_index)"
   ]
  },
  {
   "cell_type": "code",
   "execution_count": 7,
   "id": "6ef74630",
   "metadata": {},
   "outputs": [],
   "source": [
    "# Validate and correct data types\n",
    "if 'event_time' in df.columns:\n",
    "    df['event_time'] = pd.to_datetime(df['event_time'], errors='coerce')\n",
    "if 'event_type' in df.columns:\n",
    "    df['event_type'] = df['event_type'].astype(str)\n",
    "if 'product_id' in df.columns:\n",
    "    df['product_id'] = df['product_id'].astype(str)\n",
    "if 'category_id' in df.columns:\n",
    "    df['category_id'] = df['category_id'].astype('category')\n",
    "if 'category_code' in df.columns:\n",
    "    df['category_code'] = df['category_code'].astype(str)\n",
    "if 'brand' in df.columns:\n",
    "    df['brand'] = df['brand'].astype(str)\n",
    "if 'price' in df.columns:\n",
    "    df['price'] = pd.to_numeric(df['price'], errors='coerce')\n",
    "if 'user_id' in df.columns:\n",
    "    df['user_id'] = df['user_id'].astype(str)\n",
    "if 'user_session' in df.columns:\n",
    "    df['user_session'] = df['user_session'].astype(str)"
   ]
  },
  {
   "cell_type": "code",
   "execution_count": 8,
   "id": "5b939583",
   "metadata": {},
   "outputs": [
    {
     "name": "stdout",
     "output_type": "stream",
     "text": [
      "Cleaned data saved as step2.pkl: (8536, 9)\n"
     ]
    }
   ],
   "source": [
    "# Save cleaned data for next notebook using pickle\n",
    "import pickle\n",
    "\n",
    "with open('step2.pkl', 'wb') as f:\n",
    "    pickle.dump(df, f)\n",
    "    \n",
    "print(\"Cleaned data saved as step2.pkl:\", df.shape)"
   ]
  }
 ],
 "metadata": {
  "kernelspec": {
   "display_name": "Python 3",
   "language": "python",
   "name": "python3"
  },
  "language_info": {
   "codemirror_mode": {
    "name": "ipython",
    "version": 3
   },
   "file_extension": ".py",
   "mimetype": "text/x-python",
   "name": "python",
   "nbconvert_exporter": "python",
   "pygments_lexer": "ipython3",
   "version": "3.11.9"
  }
 },
 "nbformat": 4,
 "nbformat_minor": 5
}
