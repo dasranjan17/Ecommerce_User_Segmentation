{
 "cells": [
  {
   "cell_type": "markdown",
   "id": "6d89f7ab",
   "metadata": {},
   "source": [
    " Dataset Source:\n",
    "The dataset used for analysis (`2019 Oct.csv`) is stored locally and excluded from version control for size reasons. Please refer to the project documentation or contact the author for access or details about the data source."
   ]
  },
  {
   "cell_type": "markdown",
   "id": "511b25d7",
   "metadata": {},
   "source": [
    " Import pandas library\n",
    "We use pandas for data manipulation and analysis."
   ]
  },
  {
   "cell_type": "code",
   "execution_count": 2,
   "id": "ef48b45a",
   "metadata": {},
   "outputs": [],
   "source": [
    "import pandas as pd"
   ]
  },
  {
   "cell_type": "markdown",
   "id": "490b8ded",
   "metadata": {},
   "source": [
    "Load the dataset\n",
    "Read the CSV file '2019 Oct.csv' into a pandas DataFrame for analysis."
   ]
  },
  {
   "cell_type": "code",
   "execution_count": 3,
   "id": "e697e9c4",
   "metadata": {},
   "outputs": [],
   "source": [
    "df=pd.read_csv('2019 Oct.csv')\n",
    "# df=pd.read_csv('sample.csv')"
   ]
  },
  {
   "cell_type": "code",
   "execution_count": 4,
   "id": "a18a49fe",
   "metadata": {},
   "outputs": [],
   "source": [
    "df = df.head(10000)"
   ]
  },
  {
   "cell_type": "code",
   "execution_count": 5,
   "id": "4b4027e1",
   "metadata": {},
   "outputs": [
    {
     "data": {
      "text/html": [
       "<div>\n",
       "<style scoped>\n",
       "    .dataframe tbody tr th:only-of-type {\n",
       "        vertical-align: middle;\n",
       "    }\n",
       "\n",
       "    .dataframe tbody tr th {\n",
       "        vertical-align: top;\n",
       "    }\n",
       "\n",
       "    .dataframe thead th {\n",
       "        text-align: right;\n",
       "    }\n",
       "</style>\n",
       "<table border=\"1\" class=\"dataframe\">\n",
       "  <thead>\n",
       "    <tr style=\"text-align: right;\">\n",
       "      <th></th>\n",
       "      <th>event_time</th>\n",
       "      <th>event_type</th>\n",
       "      <th>product_id</th>\n",
       "      <th>category_id</th>\n",
       "      <th>category_code</th>\n",
       "      <th>brand</th>\n",
       "      <th>price</th>\n",
       "      <th>user_id</th>\n",
       "      <th>user_session</th>\n",
       "    </tr>\n",
       "  </thead>\n",
       "  <tbody>\n",
       "    <tr>\n",
       "      <th>0</th>\n",
       "      <td>2019-10-01 00:00:00 UTC</td>\n",
       "      <td>view</td>\n",
       "      <td>44600062</td>\n",
       "      <td>2103807459595387724</td>\n",
       "      <td>NaN</td>\n",
       "      <td>shiseido</td>\n",
       "      <td>35.79</td>\n",
       "      <td>541312140.0</td>\n",
       "      <td>72d76fde-8bb3-4e00-8c23-a032dfed738c</td>\n",
       "    </tr>\n",
       "    <tr>\n",
       "      <th>1</th>\n",
       "      <td>2019-10-01 00:00:00 UTC</td>\n",
       "      <td>view</td>\n",
       "      <td>3900821</td>\n",
       "      <td>2053013552326770905</td>\n",
       "      <td>appliances.environment.water_heater</td>\n",
       "      <td>aqua</td>\n",
       "      <td>33.20</td>\n",
       "      <td>554748717.0</td>\n",
       "      <td>9333dfbd-b87a-4708-9857-6336556b0fcc</td>\n",
       "    </tr>\n",
       "    <tr>\n",
       "      <th>2</th>\n",
       "      <td>2019-10-01 00:00:01 UTC</td>\n",
       "      <td>view</td>\n",
       "      <td>17200506</td>\n",
       "      <td>2053013559792632471</td>\n",
       "      <td>furniture.living_room.sofa</td>\n",
       "      <td>NaN</td>\n",
       "      <td>543.10</td>\n",
       "      <td>519107250.0</td>\n",
       "      <td>566511c2-e2e3-422b-b695-cf8e6e792ca8</td>\n",
       "    </tr>\n",
       "    <tr>\n",
       "      <th>3</th>\n",
       "      <td>2019-10-01 00:00:01 UTC</td>\n",
       "      <td>view</td>\n",
       "      <td>1307067</td>\n",
       "      <td>2053013558920217191</td>\n",
       "      <td>computers.notebook</td>\n",
       "      <td>lenovo</td>\n",
       "      <td>251.74</td>\n",
       "      <td>NaN</td>\n",
       "      <td>7c90fc70-0e80-4590-96f3-13c02c18c713</td>\n",
       "    </tr>\n",
       "    <tr>\n",
       "      <th>4</th>\n",
       "      <td>2019-10-01 00:00:04 UTC</td>\n",
       "      <td>view</td>\n",
       "      <td>1004237</td>\n",
       "      <td>2053013555631882655</td>\n",
       "      <td>electronics.smartphone</td>\n",
       "      <td>apple</td>\n",
       "      <td>1081.98</td>\n",
       "      <td>535871217.0</td>\n",
       "      <td>c6bd7419-2748-4c56-95b4-8cec9ff8b80d</td>\n",
       "    </tr>\n",
       "    <tr>\n",
       "      <th>...</th>\n",
       "      <td>...</td>\n",
       "      <td>...</td>\n",
       "      <td>...</td>\n",
       "      <td>...</td>\n",
       "      <td>...</td>\n",
       "      <td>...</td>\n",
       "      <td>...</td>\n",
       "      <td>...</td>\n",
       "      <td>...</td>\n",
       "    </tr>\n",
       "    <tr>\n",
       "      <th>9995</th>\n",
       "      <td>2019-10-01 02:37:18 UTC</td>\n",
       "      <td>view</td>\n",
       "      <td>45600168</td>\n",
       "      <td>2113934850560885372</td>\n",
       "      <td>apparel.shoes.keds</td>\n",
       "      <td>nike</td>\n",
       "      <td>59.18</td>\n",
       "      <td>539620652.0</td>\n",
       "      <td>2b8f3a28-5ca3-4038-a48f-021db1c8d1dc</td>\n",
       "    </tr>\n",
       "    <tr>\n",
       "      <th>9996</th>\n",
       "      <td>2019-10-01 02:37:18 UTC</td>\n",
       "      <td>view</td>\n",
       "      <td>32403314</td>\n",
       "      <td>2053013566562238479</td>\n",
       "      <td>NaN</td>\n",
       "      <td>NaN</td>\n",
       "      <td>25.48</td>\n",
       "      <td>516770039.0</td>\n",
       "      <td>76b06dcb-c92f-4fa8-8d35-d290cadc29c5</td>\n",
       "    </tr>\n",
       "    <tr>\n",
       "      <th>9997</th>\n",
       "      <td>2019-10-01 02:37:18 UTC</td>\n",
       "      <td>view</td>\n",
       "      <td>1004838</td>\n",
       "      <td>2053013555631882655</td>\n",
       "      <td>electronics.smartphone</td>\n",
       "      <td>oppo</td>\n",
       "      <td>179.38</td>\n",
       "      <td>527209005.0</td>\n",
       "      <td>cbfdc1b0-39b7-4d1d-bce3-b79fc6b6c7cf</td>\n",
       "    </tr>\n",
       "    <tr>\n",
       "      <th>9998</th>\n",
       "      <td>2019-10-01 02:37:18 UTC</td>\n",
       "      <td>view</td>\n",
       "      <td>3601063</td>\n",
       "      <td>2053013563810775923</td>\n",
       "      <td>appliances.kitchen.washer</td>\n",
       "      <td>artel</td>\n",
       "      <td>NaN</td>\n",
       "      <td>536457776.0</td>\n",
       "      <td>917a738a-5505-44b0-b336-96f5f0028b04</td>\n",
       "    </tr>\n",
       "    <tr>\n",
       "      <th>9999</th>\n",
       "      <td>2019-10-01 02:37:18 UTC</td>\n",
       "      <td>view</td>\n",
       "      <td>28715760</td>\n",
       "      <td>2053013565069067197</td>\n",
       "      <td>apparel.shoes.keds</td>\n",
       "      <td>nexpero</td>\n",
       "      <td>107.85</td>\n",
       "      <td>523596085.0</td>\n",
       "      <td>edddf185-c754-4ad8-b688-bb7bc5c3abbf</td>\n",
       "    </tr>\n",
       "  </tbody>\n",
       "</table>\n",
       "<p>10000 rows × 9 columns</p>\n",
       "</div>"
      ],
      "text/plain": [
       "                   event_time event_type  product_id          category_id  \\\n",
       "0     2019-10-01 00:00:00 UTC       view    44600062  2103807459595387724   \n",
       "1     2019-10-01 00:00:00 UTC       view     3900821  2053013552326770905   \n",
       "2     2019-10-01 00:00:01 UTC       view    17200506  2053013559792632471   \n",
       "3     2019-10-01 00:00:01 UTC       view     1307067  2053013558920217191   \n",
       "4     2019-10-01 00:00:04 UTC       view     1004237  2053013555631882655   \n",
       "...                       ...        ...         ...                  ...   \n",
       "9995  2019-10-01 02:37:18 UTC       view    45600168  2113934850560885372   \n",
       "9996  2019-10-01 02:37:18 UTC       view    32403314  2053013566562238479   \n",
       "9997  2019-10-01 02:37:18 UTC       view     1004838  2053013555631882655   \n",
       "9998  2019-10-01 02:37:18 UTC       view     3601063  2053013563810775923   \n",
       "9999  2019-10-01 02:37:18 UTC       view    28715760  2053013565069067197   \n",
       "\n",
       "                            category_code     brand    price      user_id  \\\n",
       "0                                     NaN  shiseido    35.79  541312140.0   \n",
       "1     appliances.environment.water_heater      aqua    33.20  554748717.0   \n",
       "2              furniture.living_room.sofa       NaN   543.10  519107250.0   \n",
       "3                      computers.notebook    lenovo   251.74          NaN   \n",
       "4                  electronics.smartphone     apple  1081.98  535871217.0   \n",
       "...                                   ...       ...      ...          ...   \n",
       "9995                   apparel.shoes.keds      nike    59.18  539620652.0   \n",
       "9996                                  NaN       NaN    25.48  516770039.0   \n",
       "9997               electronics.smartphone      oppo   179.38  527209005.0   \n",
       "9998            appliances.kitchen.washer     artel      NaN  536457776.0   \n",
       "9999                   apparel.shoes.keds   nexpero   107.85  523596085.0   \n",
       "\n",
       "                              user_session  \n",
       "0     72d76fde-8bb3-4e00-8c23-a032dfed738c  \n",
       "1     9333dfbd-b87a-4708-9857-6336556b0fcc  \n",
       "2     566511c2-e2e3-422b-b695-cf8e6e792ca8  \n",
       "3     7c90fc70-0e80-4590-96f3-13c02c18c713  \n",
       "4     c6bd7419-2748-4c56-95b4-8cec9ff8b80d  \n",
       "...                                    ...  \n",
       "9995  2b8f3a28-5ca3-4038-a48f-021db1c8d1dc  \n",
       "9996  76b06dcb-c92f-4fa8-8d35-d290cadc29c5  \n",
       "9997  cbfdc1b0-39b7-4d1d-bce3-b79fc6b6c7cf  \n",
       "9998  917a738a-5505-44b0-b336-96f5f0028b04  \n",
       "9999  edddf185-c754-4ad8-b688-bb7bc5c3abbf  \n",
       "\n",
       "[10000 rows x 9 columns]"
      ]
     },
     "execution_count": 5,
     "metadata": {},
     "output_type": "execute_result"
    }
   ],
   "source": [
    "df"
   ]
  },
  {
   "cell_type": "code",
   "execution_count": 6,
   "id": "0e4dd953",
   "metadata": {},
   "outputs": [
    {
     "name": "stdout",
     "output_type": "stream",
     "text": [
      "Requirement already satisfied: seaborn in d:\\apps new\\python311\\lib\\site-packages (0.13.2)\n",
      "Requirement already satisfied: numpy!=1.24.0,>=1.20 in d:\\apps new\\python311\\lib\\site-packages (from seaborn) (2.3.2)\n",
      "Requirement already satisfied: pandas>=1.2 in d:\\apps new\\python311\\lib\\site-packages (from seaborn) (2.3.2)\n",
      "Requirement already satisfied: matplotlib!=3.6.1,>=3.4 in d:\\apps new\\python311\\lib\\site-packages (from seaborn) (3.10.6)\n",
      "Requirement already satisfied: contourpy>=1.0.1 in d:\\apps new\\python311\\lib\\site-packages (from matplotlib!=3.6.1,>=3.4->seaborn) (1.3.3)\n",
      "Requirement already satisfied: cycler>=0.10 in d:\\apps new\\python311\\lib\\site-packages (from matplotlib!=3.6.1,>=3.4->seaborn) (0.12.1)\n",
      "Requirement already satisfied: fonttools>=4.22.0 in d:\\apps new\\python311\\lib\\site-packages (from matplotlib!=3.6.1,>=3.4->seaborn) (4.59.2)\n",
      "Requirement already satisfied: kiwisolver>=1.3.1 in d:\\apps new\\python311\\lib\\site-packages (from matplotlib!=3.6.1,>=3.4->seaborn) (1.4.9)\n",
      "Requirement already satisfied: packaging>=20.0 in d:\\apps new\\python311\\lib\\site-packages (from matplotlib!=3.6.1,>=3.4->seaborn) (25.0)\n",
      "Requirement already satisfied: pillow>=8 in d:\\apps new\\python311\\lib\\site-packages (from matplotlib!=3.6.1,>=3.4->seaborn) (11.3.0)\n",
      "Requirement already satisfied: pyparsing>=2.3.1 in d:\\apps new\\python311\\lib\\site-packages (from matplotlib!=3.6.1,>=3.4->seaborn) (3.2.3)\n",
      "Requirement already satisfied: python-dateutil>=2.7 in d:\\apps new\\python311\\lib\\site-packages (from matplotlib!=3.6.1,>=3.4->seaborn) (2.9.0.post0)\n",
      "Requirement already satisfied: pytz>=2020.1 in d:\\apps new\\python311\\lib\\site-packages (from pandas>=1.2->seaborn) (2025.2)\n",
      "Requirement already satisfied: tzdata>=2022.7 in d:\\apps new\\python311\\lib\\site-packages (from pandas>=1.2->seaborn) (2025.2)\n",
      "Requirement already satisfied: six>=1.5 in d:\\apps new\\python311\\lib\\site-packages (from python-dateutil>=2.7->matplotlib!=3.6.1,>=3.4->seaborn) (1.17.0)\n",
      "Note: you may need to restart the kernel to use updated packages.\n"
     ]
    },
    {
     "name": "stderr",
     "output_type": "stream",
     "text": [
      "\n",
      "[notice] A new release of pip is available: 24.0 -> 25.2\n",
      "[notice] To update, run: python.exe -m pip install --upgrade pip\n"
     ]
    }
   ],
   "source": [
    "%pip install seaborn\n"
   ]
  },
  {
   "cell_type": "markdown",
   "id": "791890cd",
   "metadata": {},
   "source": [
    "## Handling Missing Values\n",
    "Visualizing and addressing missing values is a key step in data cleaning. We use a heatmap to identify missing data patterns and decide whether to impute or drop missing values based on their impact on analysis."
   ]
  },
  {
   "cell_type": "code",
   "execution_count": 7,
   "id": "56c308f4",
   "metadata": {},
   "outputs": [
    {
     "data": {
      "image/png": "[encoded data removed]",
      "text/plain": [
       "<Figure size 640x480 with 1 Axes>"
      ]
     },
     "metadata": {},
     "output_type": "display_data"
    }
   ],
   "source": [
    "import seaborn as sns\n",
    "import matplotlib.pyplot as plt\n",
    "\n",
    "sns.heatmap(df.isna(), cbar=False)\n",
    "plt.title(\"Missing Values Heatmap\")\n",
    "plt.show()"
   ]
  },
  {
   "cell_type": "code",
   "execution_count": 8,
   "id": "0e8e7ea5",
   "metadata": {},
   "outputs": [
    {
     "name": "stdout",
     "output_type": "stream",
     "text": [
      "<class 'pandas.core.frame.DataFrame'>\n",
      "RangeIndex: 10000 entries, 0 to 9999\n",
      "Data columns (total 9 columns):\n",
      " #   Column         Non-Null Count  Dtype  \n",
      "---  ------         --------------  -----  \n",
      " 0   event_time     10000 non-null  object \n",
      " 1   event_type     10000 non-null  object \n",
      " 2   product_id     10000 non-null  int64  \n",
      " 3   category_id    10000 non-null  int64  \n",
      " 4   category_code  6723 non-null   object \n",
      " 5   brand          8558 non-null   object \n",
      " 6   price          9909 non-null   float64\n",
      " 7   user_id        8978 non-null   float64\n",
      " 8   user_session   10000 non-null  object \n",
      "dtypes: float64(2), int64(2), object(5)\n",
      "memory usage: 703.3+ KB\n"
     ]
    }
   ],
   "source": [
    "df.info()"
   ]
  },
  {
   "cell_type": "markdown",
   "id": "e2e246d4",
   "metadata": {},
   "source": [
    "# Next Steps: Data Cleaning\n",
    "To complete the cleaning process for e-commerce user event data, perform the following steps:\n",
    "\n",
    "- Handle missing values (impute or drop as appropriate)\n",
    "\n",
    "- Remove duplicate records\n",
    "\n",
    "- Detect and address outliers\n",
    "\n",
    "- Validate data types and ranges\n",
    "\n",
    "- Document any cleaning decisions\n",
    "\n",
    "\n",
    "Proceed with code cells for each cleaning step."
   ]
  },
  {
   "cell_type": "markdown",
   "id": "30352de9",
   "metadata": {},
   "source": [
    "## Strategies for Handling Missing Values\n",
    "After visualizing missing data, we can address it by either imputing (filling in) missing values or dropping rows/columns with missing data. The choice depends on the amount and importance of missing data:\n",
    "\n",
    "- **Imputation:** Fill missing values using mean, median, mode, or other methods.\n",
    "- **Dropping:** Remove rows or columns with excessive missing values if they are not critical for analysis.\n",
    "\n",
    "Careful handling ensures data quality and reliable analysis."
   ]
  },
  {
   "cell_type": "code",
   "execution_count": 9,
   "id": "419a461a",
   "metadata": {},
   "outputs": [
    {
     "name": "stdout",
     "output_type": "stream",
     "text": [
      "Rows after cleaning: 10000\n"
     ]
    },
    {
     "data": {
      "text/plain": [
       "event_time          0\n",
       "event_type          0\n",
       "product_id          0\n",
       "category_id         0\n",
       "category_code    3277\n",
       "brand            1442\n",
       "price               0\n",
       "user_id             0\n",
       "user_session        0\n",
       "dtype: int64"
      ]
     },
     "execution_count": 9,
     "metadata": {},
     "output_type": "execute_result"
    }
   ],
   "source": [
    "# Handle missing values: drop rows with >50% missing, impute remaining with mean (numeric columns)\n",
    "threshold = int(df.shape[1] * 0.5)\n",
    "df_cleaned = df.dropna(thresh=threshold)\n",
    "\n",
    "# Impute remaining missing values in numeric columns with mean\n",
    "for col in df_cleaned.select_dtypes(include=['float64', 'int64']).columns:\n",
    "    df_cleaned[col] = df_cleaned[col].fillna(df_cleaned[col].mean())\n",
    "\n",
    "# Check result\n",
    "print('Rows after cleaning:', df_cleaned.shape[0])\n",
    "df_cleaned.isna().sum()"
   ]
  },
  {
   "cell_type": "code",
   "execution_count": 10,
   "id": "409276ed",
   "metadata": {},
   "outputs": [
    {
     "name": "stdout",
     "output_type": "stream",
     "text": [
      "Rows after cleaning: 10000\n"
     ]
    },
    {
     "name": "stderr",
     "output_type": "stream",
     "text": [
      "C:\\Users\\ASUS\\AppData\\Local\\Temp\\ipykernel_18056\\3405301885.py:6: FutureWarning: A value is trying to be set on a copy of a DataFrame or Series through chained assignment using an inplace method.\n",
      "The behavior will change in pandas 3.0. This inplace method will never work because the intermediate object on which we are setting values always behaves as a copy.\n",
      "\n",
      "For example, when doing 'df[col].method(value, inplace=True)', try using 'df.method({col: value}, inplace=True)' or df[col] = df[col].method(value) instead, to perform the operation inplace on the original object.\n",
      "\n",
      "\n",
      "  df[col].fillna(df[col].mean(), inplace=True)\n"
     ]
    },
    {
     "data": {
      "text/plain": [
       "event_time          0\n",
       "event_type          0\n",
       "product_id          0\n",
       "category_id         0\n",
       "category_code    3277\n",
       "brand            1442\n",
       "price               0\n",
       "user_id             0\n",
       "user_session        0\n",
       "dtype: int64"
      ]
     },
     "execution_count": 10,
     "metadata": {},
     "output_type": "execute_result"
    }
   ],
   "source": [
    "# Handle missing values directly in df\n",
    "threshold = int(df.shape[1] * 0.5)\n",
    "df.dropna(thresh=threshold, inplace=True)\n",
    "\n",
    "for col in df.select_dtypes(include=['float64', 'int64']).columns:\n",
    "    df[col].fillna(df[col].mean(), inplace=True)\n",
    "\n",
    "print('Rows after cleaning:', df.shape[0])\n",
    "df.isna().sum()"
   ]
  },
  {
   "cell_type": "code",
   "execution_count": 11,
   "id": "8f50e028",
   "metadata": {},
   "outputs": [
    {
     "name": "stdout",
     "output_type": "stream",
     "text": [
      "Rows after cleaning: 10000\n"
     ]
    },
    {
     "data": {
      "text/plain": [
       "event_time          0\n",
       "event_type          0\n",
       "product_id          0\n",
       "category_id         0\n",
       "category_code    3277\n",
       "brand            1442\n",
       "price               0\n",
       "user_id             0\n",
       "user_session        0\n",
       "dtype: int64"
      ]
     },
     "execution_count": 11,
     "metadata": {},
     "output_type": "execute_result"
    }
   ],
   "source": [
    "# Handle missing values without using inplace\n",
    "threshold = int(df.shape[1] * 0.5)\n",
    "df = df.dropna(thresh=threshold)\n",
    "\n",
    "for col in df.select_dtypes(include=['float64', 'int64']).columns:\n",
    "    df[col] = df[col].fillna(df[col].mean())\n",
    "\n",
    "print('Rows after cleaning:', df.shape[0])\n",
    "df.isna().sum()"
   ]
  },
  {
   "cell_type": "code",
   "execution_count": 12,
   "id": "13a811b7",
   "metadata": {},
   "outputs": [
    {
     "name": "stdout",
     "output_type": "stream",
     "text": [
      "Removed 3 duplicate rows. Remaining rows: 9997\n"
     ]
    }
   ],
   "source": [
    "# Remove duplicate rows\n",
    "before = df.shape[0]\n",
    "df = df.drop_duplicates()\n",
    "after = df.shape[0]\n",
    "print(f\"Removed {before - after} duplicate rows. Remaining rows: {after}\")"
   ]
  },
  {
   "cell_type": "markdown",
   "id": "3d638bc5",
   "metadata": {},
   "source": [
    "## What are Outliers?\n",
    "\n",
    "Outliers are data points that deviate significantly from other observations in your dataset.\n",
    "\n",
    "They can occur due to:\n",
    "- Data entry errors\n",
    "- Measurement errors\n",
    "- Natural variability (some users spend much more than others)\n",
    "\n",
    "**Examples in your dataset:**\n",
    "- Extremely high-priced items (price column)\n",
    "- Unusually high number of purchases by a single user\n",
    "\n",
    "**Why it matters for clustering:**\n",
    "Clustering algorithms like K-Means are distance-based. Outliers can skew centroids, leading to poor cluster definitions."
   ]
  },
  {
   "cell_type": "code",
   "execution_count": 14,
   "id": "bd3e8d8c",
   "metadata": {},
   "outputs": [
    {
     "name": "stdout",
     "output_type": "stream",
     "text": [
      "Total unique outliers across all numeric columns: 407\n",
      "Rows after removing outliers: 8129\n"
     ]
    }
   ],
   "source": [
    "# Detect and remove outliers using the IQR method for all numeric columns (collect indices and remove all at once)\n",
    "import numpy as np\n",
    "numeric_cols = df.select_dtypes(include=[np.number]).columns\n",
    "outlier_index = set()\n",
    "for col in numeric_cols:\n",
    "    Q1 = df[col].quantile(0.25)\n",
    "    Q3 = df[col].quantile(0.75)\n",
    "    IQR = Q3 - Q1\n",
    "    lower_bound = Q1 - 1.5 * IQR\n",
    "    upper_bound = Q3 + 1.5 * IQR\n",
    "    outlier_index.update(df[(df[col] < lower_bound) | (df[col] > upper_bound)].index)\n",
    "print(f\"Total unique outliers across all numeric columns: {len(outlier_index)}\")\n",
    "df = df.drop(outlier_index)\n",
    "print(f\"Rows after removing outliers: {df.shape[0]}\")"
   ]
  },
  {
   "cell_type": "markdown",
   "id": "3e71676a",
   "metadata": {},
   "source": [
    "## Validating Data Types and Value Ranges\n",
    "\n",
    "After handling missing values, duplicates, and outliers, it's important to ensure that each column has the correct data type and that values fall within expected ranges. This step helps prevent errors in downstream analysis and modeling.\n",
    "print(\"Data types before correction:\")\n",
    "print(df.dtypes)\n",
    "\n",
    "for col in df.select_dtypes(include=[np.number]).columns:\n",
    "    min_val = df[col].min()\n",
    "    max_val = df[col].max()\n",
    "    print(f\"{col}: min={min_val}, max=`{max_val}\")\n",
    "\n",
    "print(\"\\nData types after correction:\")\n",
    "print(df.dtypes)"
   ]
  },
  {
   "cell_type": "code",
   "execution_count": null,
   "id": "b0ac7c99",
   "metadata": {},
   "outputs": [],
   "source": [
    "# Correct data types for all relevant columns\n",
    "if 'event_time' in df.columns:\n",
    "    df['event_time'] = pd.to_datetime(df['event_time'], errors='coerce')\n",
    "if 'event_type' in df.columns:\n",
    "    df['event_type'] = df['event_type'].astype(str)\n",
    "if 'product_id' in df.columns:\n",
    "    df['product_id'] = df['product_id'].astype(str)\n",
    "if 'category_id' in df.columns:\n",
    "    df['category_id'] = df['category_id'].astype('category')\n",
    "if 'category_code' in df.columns:\n",
    "    df['category_code'] = df['category_code'].astype(str)\n",
    "if 'brand' in df.columns:\n",
    "    df['brand'] = df['brand'].astype(str)\n",
    "if 'price' in df.columns:\n",
    "    df['price'] = pd.to_numeric(df['price'], errors='coerce')\n",
    "if 'user_id' in df.columns:\n",
    "    df['user_id'] = df['user_id'].astype(str)\n",
    "if 'user_session' in df.columns:\n",
    "    df['user_session'] = df['user_session'].astype(str)"
   ]
  },
  {
   "cell_type": "markdown",
   "id": "320cff38",
   "metadata": {},
   "source": [
    "## Categorical Encoding for Machine Learning\n",
    "To prepare categorical features for machine learning algorithms, we apply encoding techniques:\n",
    "- **One-Hot Encoding:** Converts each category value into a new binary column. Used for 'brand', 'category_code', and 'event_type'.\n",
    "- **Label Encoding:** Assigns each unique category value an integer label. Useful for algorithms that can interpret integer values as categories.\n",
    "\n",
    "These encodings transform categorical variables into a format suitable for clustering and other ML models."
   ]
  },
  {
   "cell_type": "markdown",
   "id": "7f9d9e0d",
   "metadata": {},
   "source": [
    "All Data Type Corrections Applied:-\n",
    "\n",
    "The following columns were converted to their appropriate types for analysis:\n",
    "\n",
    "- `event_time`: converted to datetime\n",
    "- `event_type`: converted to string\n",
    "- `product_id`: converted to string\n",
    "- `category_id`: converted to category\n",
    "- `category_code`: converted to string\n",
    "- `brand`: converted to string\n",
    "- `price`: converted to numeric\n",
    "- `user_id`: converted to string\n",
    "- `user_session`: converted to string\n",
    "\n",
    "These conversions ensure that each column is interpreted correctly for downstream analysis and modeling."
   ]
  },
  {
   "cell_type": "markdown",
   "id": "e72cd6bc",
   "metadata": {},
   "source": [
    "## Categorical Encoding for Machine Learning\n",
    "Machine learning algorithms require numerical input, but many features in e-commerce data are categorical (e.g., brand, category, event type). Encoding techniques transform these categorical variables into a numerical format so that algorithms can process and learn from them.\n",
    "\n",
    "We use two main encoding methods:\n",
    "- **One-Hot Encoding:** Converts each category value into a new binary column. Used for 'brand', 'category_code', and 'event_type'.\n",
    "- **Label Encoding:** Assigns each unique category value an integer label. Useful for algorithms that can interpret integer values as categories.\n"
   ]
  },
  {
   "cell_type": "markdown",
   "id": "a70e96f8",
   "metadata": {},
   "source": [
    "### Example: One-Hot Encoding\n",
    "- **Input:** ['red', 'green', 'blue']\n",
    "- **Output:**\n",
    "    | red | green | blue |\n",
    "    |-----|-------|------|\n",
    "    |  1  |   0   |  0   |\n",
    "    |  0  |   1   |  0   |\n",
    "    |  0  |   0   |  1   |\n",
    "One-Hot Encoding is preferred for clustering and most ML algorithms, as it avoids implying any order or priority among categories."
   ]
  },
  {
   "cell_type": "markdown",
   "id": "bf34f563",
   "metadata": {},
   "source": [
    "## Feature Scaling for Machine Learning\n",
    "Feature scaling is an essential preprocessing step for numeric columns (such as 'price') before clustering. We use StandardScaler to standardize numeric features to have mean 0 and variance 1. This ensures that all features contribute equally to distance-based algorithms like KMeans, preventing features with larger scales from dominating the clustering process.\n",
    "\n",
    "In our pipeline, StandardScaler is applied to numeric columns automatically before clustering."
   ]
  },
  {
   "cell_type": "code",
   "execution_count": null,
   "id": "01ba08d6",
   "metadata": {},
   "outputs": [],
   "source": [
    "from sklearn.preprocessing import OneHotEncoder, StandardScaler\n",
    "from sklearn.compose import ColumnTransformer\n",
    "from sklearn.pipeline import Pipeline\n",
    "from sklearn.cluster import KMeans\n",
    "\n",
    "# Define columns\n",
    "categorical_cols = ['brand', 'category_code', 'event_type']\n",
    "numeric_cols = ['price']\n",
    "\n",
    "# Preprocessing: OneHot for categorical, Scale for numeric\n",
    "preprocessor = ColumnTransformer(\n",
    "    transformers=[\n",
    "        ('cat', OneHotEncoder(handle_unknown='ignore'), categorical_cols),\n",
    "        ('num', StandardScaler(), numeric_cols)\n",
    "    ]\n",
    " )\n",
    "\n",
    "# Full pipeline: Preprocessing + Clustering\n",
    "pipeline = Pipeline(steps=[\n",
    "    ('preprocess', preprocessor),\n",
    "    ('cluster', KMeans(n_clusters=4, random_state=42))\n",
    " ])\n",
    "\n",
    "# Fit the pipeline\n",
    "pipeline.fit(df[categorical_cols + numeric_cols])\n",
    "\n",
    "# Predict clusters\n",
    "df['cluster'] = pipeline.predict(df[categorical_cols + numeric_cols])"
   ]
  }
 ],
 "metadata": {
  "kernelspec": {
   "display_name": "Python 3",
   "language": "python",
   "name": "python3"
  },
  "language_info": {
   "codemirror_mode": {
    "name": "ipython",
    "version": 3
   },
   "file_extension": ".py",
   "mimetype": "text/x-python",
   "name": "python",
   "nbconvert_exporter": "python",
   "pygments_lexer": "ipython3",
   "version": "3.11.9"
  }
 },
 "nbformat": 4,
 "nbformat_minor": 5
}
