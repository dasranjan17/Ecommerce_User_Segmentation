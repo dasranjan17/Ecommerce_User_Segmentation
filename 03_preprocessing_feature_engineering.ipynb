{
 "cells": [
  {
   "cell_type": "code",
   "execution_count": null,
   "id": "e289f7d3",
   "metadata": {
    "vscode": {
     "languageId": "code"
    }
   },
   "outputs": [],
   "source": [
    "import pandas as pd\n",
    "import numpy as np\n",
    "import pickle\n",
    "\n",
    "# Load cleaned data from previous notebook using pickle\n",
    "with open('step2.pkl', 'rb') as f:\n",
    "    df = pickle.load(f)\n",
    "    \n",
    "print(\"Cleaned data loaded from step2.pkl:\", df.shape)"
   ]
  },
  {
   "cell_type": "markdown",
   "id": "1e2b254e",
   "metadata": {},
   "source": [
    "# Preprocessing & Feature Engineering\n",
    "Encode categorical variables, scale numerical features, create customer-level features (spend, frequency, ratios), and aggregate into a structured dataset ready for clustering."
   ]
  },
  {
   "cell_type": "code",
   "execution_count": null,
   "id": "58286d87",
   "metadata": {},
   "outputs": [],
   "source": [
    "from sklearn.preprocessing import OneHotEncoder, StandardScaler\n",
    "from sklearn.compose import ColumnTransformer"
   ]
  },
  {
   "cell_type": "code",
   "execution_count": null,
   "id": "40fd0cb9",
   "metadata": {},
   "outputs": [],
   "source": [
    "categorical_cols = ['brand', 'category_code', 'event_type']\n",
    "numeric_cols = ['price']"
   ]
  },
  {
   "cell_type": "code",
   "execution_count": null,
   "id": "1114d96e",
   "metadata": {},
   "outputs": [],
   "source": [
    "preprocessor = ColumnTransformer([\n",
    "    ('cat', OneHotEncoder(handle_unknown='ignore'), categorical_cols),\n",
    "    ('num', StandardScaler(), numeric_cols)\n",
    "])\n",
    "X = preprocessor.fit_transform(df[categorical_cols + numeric_cols])"
   ]
  },
  {
   "cell_type": "markdown",
   "id": "78f80089",
   "metadata": {},
   "source": [
    "## Create Customer-Level Features"
   ]
  },
  {
   "cell_type": "code",
   "execution_count": null,
   "id": "7d4c1604",
   "metadata": {},
   "outputs": [],
   "source": [
    "customer_features = df.groupby('user_id').agg({\n",
    "    'price': ['sum', 'mean', 'count'],\n",
    "    'event_type': 'nunique',\n",
    "    'category_code': 'nunique',\n",
    "    'brand': 'nunique'\n",
    "})\n",
    "customer_features.columns = ['total_spend', 'avg_spend', 'purchase_count', 'event_type_count', 'category_count', 'brand_count']\n",
    "customer_features = customer_features.reset_index()"
   ]
  },
  {
   "cell_type": "code",
   "execution_count": null,
   "id": "3e77582a",
   "metadata": {
    "vscode": {
     "languageId": "code"
    }
   },
   "outputs": [],
   "source": [
    "# Save preprocessed data and customer features for next notebook using pickle\n",
    "import pickle\n",
    "\n",
    "# Save all data using pickle\n",
    "data_bundle = {\n",
    "    'X': X,\n",
    "    'preprocessor': preprocessor,\n",
    "    'customer_features': customer_features,\n",
    "    'df': df\n",
    "}\n",
    "\n",
    "with open('step3.pkl', 'wb') as f:\n",
    "    pickle.dump(data_bundle, f)\n",
    "\n",
    "print(\"Preprocessed data saved as step3.pkl\")"
   ]
  }
 ],
 "metadata": {
  "language_info": {
   "name": "python"
  }
 },
 "nbformat": 4,
 "nbformat_minor": 5
}
